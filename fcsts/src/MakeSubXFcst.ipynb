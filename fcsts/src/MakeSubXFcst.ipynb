{
 "cells": [
  {
   "cell_type": "code",
   "execution_count": 1,
   "id": "3dee16c2",
   "metadata": {},
   "outputs": [],
   "source": [
    "#%matplotlib inline\n",
    "\n",
    "import xarray as xr\n",
    "import numpy as np\n",
    "import pandas as pd\n",
    "\n",
    "import os.path\n",
    "from datetime import datetime, timedelta, date\n",
    "import time\n",
    "\n",
    "import matplotlib.pyplot as plt\n",
    "#import proplot as pplt\n",
    "\n",
    "import cartopy.crs as ccrs\n",
    "import cartopy.mpl.ticker as cticker\n",
    "import cartopy.feature as cfeature\n",
    "\n",
    "from subx_utils import *"
   ]
  },
  {
   "cell_type": "code",
   "execution_count": 2,
   "id": "30dba3e2",
   "metadata": {},
   "outputs": [
    {
     "name": "stdout",
     "output_type": "stream",
     "text": [
      "/home/mlavoie/miniconda3/envs/SubX/bin/python\n",
      "3.7.3 (default, Mar 27 2019, 22:11:17) \n",
      "[GCC 7.3.0]\n",
      "# packages in environment at /home/mlavoie/miniconda3:\n",
      "#\n",
      "# Name                    Version                   Build  Channel\n",
      "# packages in environment at /home/mlavoie/miniconda3:\n",
      "#\n",
      "# Name                    Version                   Build  Channel\n"
     ]
    }
   ],
   "source": [
    "### TESTING ENVIRONMENT -- remove\n",
    "import sys\n",
    "print(sys.executable)\n",
    "print (sys.version)\n",
    "!conda list xarray\n",
    "!conda list netcdf4"
   ]
  },
  {
   "cell_type": "code",
   "execution_count": 3,
   "id": "1927f082",
   "metadata": {},
   "outputs": [],
   "source": [
    "# Get Start Time\n",
    "start_time = time.time()"
   ]
  },
  {
   "cell_type": "code",
   "execution_count": 4,
   "id": "eb15185c",
   "metadata": {},
   "outputs": [],
   "source": [
    "# Eliminate Warnings\n",
    "import warnings\n",
    "warnings.filterwarnings(\"ignore\")"
   ]
  },
  {
   "cell_type": "code",
   "execution_count": 5,
   "id": "bde265b3",
   "metadata": {},
   "outputs": [
    {
     "data": {
      "text/plain": [
       "<xarray.core.options.set_options at 0x7f44cbcad748>"
      ]
     },
     "execution_count": 5,
     "metadata": {},
     "output_type": "execute_result"
    }
   ],
   "source": [
    "# Set xarray to keep attributes\n",
    "xr.set_options(keep_attrs=True)  "
   ]
  },
  {
   "cell_type": "markdown",
   "id": "8448ec66",
   "metadata": {},
   "source": [
    "### Models and Forecast Settings"
   ]
  },
  {
   "cell_type": "code",
   "execution_count": 8,
   "id": "8c9c6cd7",
   "metadata": {},
   "outputs": [],
   "source": [
    "subxmodels_list,_,_,_,_=initSubxModels()\n",
    "model_labels=[item['group']+'-'+item['model'] for item in subxmodels_list]\n",
    "nweeks=4"
   ]
  },
  {
   "cell_type": "markdown",
   "id": "a1e6a5f8",
   "metadata": {},
   "source": [
    "### File paths"
   ]
  },
  {
   "cell_type": "code",
   "execution_count": 9,
   "id": "61dcca24",
   "metadata": {},
   "outputs": [],
   "source": [
    "url='http://iridl.ldeo.columbia.edu/SOURCES/.Models/.SubX/'\n",
    "datatype='forecast'\n",
    "hcstPath='/share/scratch/kpegion/subx/hindcast/'"
   ]
  },
  {
   "cell_type": "markdown",
   "id": "f07eb283",
   "metadata": {},
   "source": [
    "### Fcst Date Handling"
   ]
  },
  {
   "cell_type": "code",
   "execution_count": null,
   "id": "ecb1122b",
   "metadata": {},
   "outputs": [],
   "source": []
  },
  {
   "cell_type": "code",
   "execution_count": 10,
   "id": "e77a27d0",
   "metadata": {},
   "outputs": [
    {
     "name": "stdout",
     "output_type": "stream",
     "text": [
      "Using Current Date:  2023-06-21 00:00:00\n",
      "USING FCSTS ICS FROM:  20230609  to  20230615\n",
      "Output files and figures will be labeled as:  20230615\n",
      "Using Input Date:  20230615\n",
      "Using Input Date:  2023-06-15 00:00:00\n",
      "USING FCSTS ICS FROM:  20230609  to  20230615\n",
      "Output files and figures will be labeled as:  20230615\n"
     ]
    }
   ],
   "source": [
    "# Fcst Date Handling\n",
    "fcstdate,fcst_week_dates=getFcstDates()\n",
    "fcstdate,fcst_week_dates=getFcstDates(date='20230615')"
   ]
  },
  {
   "cell_type": "markdown",
   "id": "6646cb72",
   "metadata": {},
   "source": [
    "### Make a subx_fcst `xarray.Dataset` containing all models + MME for weeks 1-4"
   ]
  },
  {
   "cell_type": "code",
   "execution_count": 11,
   "id": "58739470",
   "metadata": {},
   "outputs": [
    {
     "name": "stdout",
     "output_type": "stream",
     "text": [
      "PROCESSING FCSTS FOR: \n",
      "===> ESRL-FIMr1p1\n",
      "http://iridl.ldeo.columbia.edu/SOURCES/.Models/.SubX/.ESRL/.FIMr1p1/.forecast/.ua/738686/pop/dods\n",
      "850\n"
     ]
    },
    {
     "ename": "FileNotFoundError",
     "evalue": "[Errno 2] No such file or directory: b'/share/scratch/kpegion/subx/hindcast/ua850/daily/climo/ESRL-FIMr1p1/ua_ESRL-FIMr1p1_0615.climo.p.nc'",
     "output_type": "error",
     "traceback": [
      "\u001b[0;31m---------------------------------------------------------------------------\u001b[0m",
      "\u001b[0;31mKeyError\u001b[0m                                  Traceback (most recent call last)",
      "\u001b[0;32m/home/mlavoie/miniconda3/envs/SubX/lib/python3.7/site-packages/xarray/backends/file_manager.py\u001b[0m in \u001b[0;36m_acquire_with_cache_info\u001b[0;34m(self, needs_lock)\u001b[0m\n\u001b[1;32m    198\u001b[0m             \u001b[0;32mtry\u001b[0m\u001b[0;34m:\u001b[0m\u001b[0;34m\u001b[0m\u001b[0;34m\u001b[0m\u001b[0m\n\u001b[0;32m--> 199\u001b[0;31m                 \u001b[0mfile\u001b[0m \u001b[0;34m=\u001b[0m \u001b[0mself\u001b[0m\u001b[0;34m.\u001b[0m\u001b[0m_cache\u001b[0m\u001b[0;34m[\u001b[0m\u001b[0mself\u001b[0m\u001b[0;34m.\u001b[0m\u001b[0m_key\u001b[0m\u001b[0;34m]\u001b[0m\u001b[0;34m\u001b[0m\u001b[0;34m\u001b[0m\u001b[0m\n\u001b[0m\u001b[1;32m    200\u001b[0m             \u001b[0;32mexcept\u001b[0m \u001b[0mKeyError\u001b[0m\u001b[0;34m:\u001b[0m\u001b[0;34m\u001b[0m\u001b[0;34m\u001b[0m\u001b[0m\n",
      "\u001b[0;32m/home/mlavoie/miniconda3/envs/SubX/lib/python3.7/site-packages/xarray/backends/lru_cache.py\u001b[0m in \u001b[0;36m__getitem__\u001b[0;34m(self, key)\u001b[0m\n\u001b[1;32m     52\u001b[0m         \u001b[0;32mwith\u001b[0m \u001b[0mself\u001b[0m\u001b[0;34m.\u001b[0m\u001b[0m_lock\u001b[0m\u001b[0;34m:\u001b[0m\u001b[0;34m\u001b[0m\u001b[0;34m\u001b[0m\u001b[0m\n\u001b[0;32m---> 53\u001b[0;31m             \u001b[0mvalue\u001b[0m \u001b[0;34m=\u001b[0m \u001b[0mself\u001b[0m\u001b[0;34m.\u001b[0m\u001b[0m_cache\u001b[0m\u001b[0;34m[\u001b[0m\u001b[0mkey\u001b[0m\u001b[0;34m]\u001b[0m\u001b[0;34m\u001b[0m\u001b[0;34m\u001b[0m\u001b[0m\n\u001b[0m\u001b[1;32m     54\u001b[0m             \u001b[0mself\u001b[0m\u001b[0;34m.\u001b[0m\u001b[0m_cache\u001b[0m\u001b[0;34m.\u001b[0m\u001b[0mmove_to_end\u001b[0m\u001b[0;34m(\u001b[0m\u001b[0mkey\u001b[0m\u001b[0;34m)\u001b[0m\u001b[0;34m\u001b[0m\u001b[0;34m\u001b[0m\u001b[0m\n",
      "\u001b[0;31mKeyError\u001b[0m: [<class 'netCDF4._netCDF4.Dataset'>, ('/share/scratch/kpegion/subx/hindcast/ua850/daily/climo/ESRL-FIMr1p1/ua_ESRL-FIMr1p1_0615.climo.p.nc',), 'r', (('clobber', True), ('diskless', False), ('format', 'NETCDF4'), ('persist', False))]",
      "\nDuring handling of the above exception, another exception occurred:\n",
      "\u001b[0;31mFileNotFoundError\u001b[0m                         Traceback (most recent call last)",
      "\u001b[0;32m<ipython-input-11-4ead10295591>\u001b[0m in \u001b[0;36m<module>\u001b[0;34m()\u001b[0m\n\u001b[1;32m     78\u001b[0m                 \u001b[0;31m# Get Climo and reset and re-name coordinates as needed to subtract from full field\u001b[0m\u001b[0;34m\u001b[0m\u001b[0;34m\u001b[0m\u001b[0;34m\u001b[0m\u001b[0m\n\u001b[1;32m     79\u001b[0m                 \u001b[0mclimo_fname\u001b[0m\u001b[0;34m=\u001b[0m\u001b[0mhcstPath\u001b[0m\u001b[0;34m+\u001b[0m\u001b[0mvarname\u001b[0m\u001b[0;34m+\u001b[0m\u001b[0mplevstr\u001b[0m\u001b[0;34m+\u001b[0m\u001b[0;34m'/daily/climo/'\u001b[0m\u001b[0;34m+\u001b[0m\u001b[0mgroup\u001b[0m\u001b[0;34m+\u001b[0m\u001b[0;34m'-'\u001b[0m\u001b[0;34m+\u001b[0m\u001b[0mmodel\u001b[0m\u001b[0;34m+\u001b[0m\u001b[0;34m'/'\u001b[0m\u001b[0;34m+\u001b[0m\u001b[0mvarname\u001b[0m\u001b[0;34m+\u001b[0m\u001b[0;34m'_'\u001b[0m\u001b[0;34m+\u001b[0m\u001b[0mgroup\u001b[0m\u001b[0;34m+\u001b[0m\u001b[0;34m'-'\u001b[0m\u001b[0;34m+\u001b[0m\u001b[0mmodel\u001b[0m\u001b[0;34m+\u001b[0m\u001b[0;34m'_'\u001b[0m\u001b[0;34m+\u001b[0m\u001b[0mmmdd\u001b[0m\u001b[0;34m[\u001b[0m\u001b[0;34m-\u001b[0m\u001b[0;36m1\u001b[0m\u001b[0;34m]\u001b[0m\u001b[0;34m+\u001b[0m\u001b[0;34m'.climo.p.nc'\u001b[0m\u001b[0;34m\u001b[0m\u001b[0;34m\u001b[0m\u001b[0m\n\u001b[0;32m---> 80\u001b[0;31m                 \u001b[0mds_clim\u001b[0m\u001b[0;34m=\u001b[0m\u001b[0mxr\u001b[0m\u001b[0;34m.\u001b[0m\u001b[0mopen_dataset\u001b[0m\u001b[0;34m(\u001b[0m\u001b[0mclimo_fname\u001b[0m\u001b[0;34m)\u001b[0m\u001b[0;34m\u001b[0m\u001b[0;34m\u001b[0m\u001b[0m\n\u001b[0m\u001b[1;32m     81\u001b[0m                 \u001b[0mds_clim\u001b[0m\u001b[0;34m=\u001b[0m\u001b[0mds_clim\u001b[0m\u001b[0;34m.\u001b[0m\u001b[0mrename\u001b[0m\u001b[0;34m(\u001b[0m\u001b[0;34m{\u001b[0m\u001b[0;34m'time'\u001b[0m\u001b[0;34m:\u001b[0m\u001b[0;34m'lead'\u001b[0m\u001b[0;34m}\u001b[0m\u001b[0;34m)\u001b[0m\u001b[0;34m\u001b[0m\u001b[0;34m\u001b[0m\u001b[0m\n\u001b[1;32m     82\u001b[0m                 \u001b[0mds_clim\u001b[0m\u001b[0;34m[\u001b[0m\u001b[0;34m'lead'\u001b[0m\u001b[0;34m]\u001b[0m\u001b[0;34m=\u001b[0m\u001b[0mds\u001b[0m\u001b[0;34m[\u001b[0m\u001b[0;34m'L'\u001b[0m\u001b[0;34m]\u001b[0m\u001b[0;34m\u001b[0m\u001b[0;34m\u001b[0m\u001b[0m\n",
      "\u001b[0;32m/home/mlavoie/miniconda3/envs/SubX/lib/python3.7/site-packages/xarray/backends/api.py\u001b[0m in \u001b[0;36mopen_dataset\u001b[0;34m(filename_or_obj, engine, chunks, cache, decode_cf, mask_and_scale, decode_times, decode_timedelta, use_cftime, concat_characters, decode_coords, drop_variables, backend_kwargs, *args, **kwargs)\u001b[0m\n\u001b[1;32m    499\u001b[0m         \u001b[0mdrop_variables\u001b[0m\u001b[0;34m=\u001b[0m\u001b[0mdrop_variables\u001b[0m\u001b[0;34m,\u001b[0m\u001b[0;34m\u001b[0m\u001b[0;34m\u001b[0m\u001b[0m\n\u001b[1;32m    500\u001b[0m         \u001b[0;34m**\u001b[0m\u001b[0mdecoders\u001b[0m\u001b[0;34m,\u001b[0m\u001b[0;34m\u001b[0m\u001b[0;34m\u001b[0m\u001b[0m\n\u001b[0;32m--> 501\u001b[0;31m         \u001b[0;34m**\u001b[0m\u001b[0mkwargs\u001b[0m\u001b[0;34m,\u001b[0m\u001b[0;34m\u001b[0m\u001b[0;34m\u001b[0m\u001b[0m\n\u001b[0m\u001b[1;32m    502\u001b[0m     )\n\u001b[1;32m    503\u001b[0m     ds = _dataset_from_backend_dataset(\n",
      "\u001b[0;32m/home/mlavoie/miniconda3/envs/SubX/lib/python3.7/site-packages/xarray/backends/netCDF4_.py\u001b[0m in \u001b[0;36mopen_dataset\u001b[0;34m(self, filename_or_obj, mask_and_scale, decode_times, concat_characters, decode_coords, drop_variables, use_cftime, decode_timedelta, group, mode, format, clobber, diskless, persist, lock, autoclose)\u001b[0m\n\u001b[1;32m    558\u001b[0m             \u001b[0mpersist\u001b[0m\u001b[0;34m=\u001b[0m\u001b[0mpersist\u001b[0m\u001b[0;34m,\u001b[0m\u001b[0;34m\u001b[0m\u001b[0;34m\u001b[0m\u001b[0m\n\u001b[1;32m    559\u001b[0m             \u001b[0mlock\u001b[0m\u001b[0;34m=\u001b[0m\u001b[0mlock\u001b[0m\u001b[0;34m,\u001b[0m\u001b[0;34m\u001b[0m\u001b[0;34m\u001b[0m\u001b[0m\n\u001b[0;32m--> 560\u001b[0;31m             \u001b[0mautoclose\u001b[0m\u001b[0;34m=\u001b[0m\u001b[0mautoclose\u001b[0m\u001b[0;34m,\u001b[0m\u001b[0;34m\u001b[0m\u001b[0;34m\u001b[0m\u001b[0m\n\u001b[0m\u001b[1;32m    561\u001b[0m         )\n\u001b[1;32m    562\u001b[0m \u001b[0;34m\u001b[0m\u001b[0m\n",
      "\u001b[0;32m/home/mlavoie/miniconda3/envs/SubX/lib/python3.7/site-packages/xarray/backends/netCDF4_.py\u001b[0m in \u001b[0;36mopen\u001b[0;34m(cls, filename, mode, format, group, clobber, diskless, persist, lock, lock_maker, autoclose)\u001b[0m\n\u001b[1;32m    378\u001b[0m             \u001b[0mnetCDF4\u001b[0m\u001b[0;34m.\u001b[0m\u001b[0mDataset\u001b[0m\u001b[0;34m,\u001b[0m \u001b[0mfilename\u001b[0m\u001b[0;34m,\u001b[0m \u001b[0mmode\u001b[0m\u001b[0;34m=\u001b[0m\u001b[0mmode\u001b[0m\u001b[0;34m,\u001b[0m \u001b[0mkwargs\u001b[0m\u001b[0;34m=\u001b[0m\u001b[0mkwargs\u001b[0m\u001b[0;34m\u001b[0m\u001b[0;34m\u001b[0m\u001b[0m\n\u001b[1;32m    379\u001b[0m         )\n\u001b[0;32m--> 380\u001b[0;31m         \u001b[0;32mreturn\u001b[0m \u001b[0mcls\u001b[0m\u001b[0;34m(\u001b[0m\u001b[0mmanager\u001b[0m\u001b[0;34m,\u001b[0m \u001b[0mgroup\u001b[0m\u001b[0;34m=\u001b[0m\u001b[0mgroup\u001b[0m\u001b[0;34m,\u001b[0m \u001b[0mmode\u001b[0m\u001b[0;34m=\u001b[0m\u001b[0mmode\u001b[0m\u001b[0;34m,\u001b[0m \u001b[0mlock\u001b[0m\u001b[0;34m=\u001b[0m\u001b[0mlock\u001b[0m\u001b[0;34m,\u001b[0m \u001b[0mautoclose\u001b[0m\u001b[0;34m=\u001b[0m\u001b[0mautoclose\u001b[0m\u001b[0;34m)\u001b[0m\u001b[0;34m\u001b[0m\u001b[0;34m\u001b[0m\u001b[0m\n\u001b[0m\u001b[1;32m    381\u001b[0m \u001b[0;34m\u001b[0m\u001b[0m\n\u001b[1;32m    382\u001b[0m     \u001b[0;32mdef\u001b[0m \u001b[0m_acquire\u001b[0m\u001b[0;34m(\u001b[0m\u001b[0mself\u001b[0m\u001b[0;34m,\u001b[0m \u001b[0mneeds_lock\u001b[0m\u001b[0;34m=\u001b[0m\u001b[0;32mTrue\u001b[0m\u001b[0;34m)\u001b[0m\u001b[0;34m:\u001b[0m\u001b[0;34m\u001b[0m\u001b[0;34m\u001b[0m\u001b[0m\n",
      "\u001b[0;32m/home/mlavoie/miniconda3/envs/SubX/lib/python3.7/site-packages/xarray/backends/netCDF4_.py\u001b[0m in \u001b[0;36m__init__\u001b[0;34m(self, manager, group, mode, lock, autoclose)\u001b[0m\n\u001b[1;32m    326\u001b[0m         \u001b[0mself\u001b[0m\u001b[0;34m.\u001b[0m\u001b[0m_group\u001b[0m \u001b[0;34m=\u001b[0m \u001b[0mgroup\u001b[0m\u001b[0;34m\u001b[0m\u001b[0;34m\u001b[0m\u001b[0m\n\u001b[1;32m    327\u001b[0m         \u001b[0mself\u001b[0m\u001b[0;34m.\u001b[0m\u001b[0m_mode\u001b[0m \u001b[0;34m=\u001b[0m \u001b[0mmode\u001b[0m\u001b[0;34m\u001b[0m\u001b[0;34m\u001b[0m\u001b[0m\n\u001b[0;32m--> 328\u001b[0;31m         \u001b[0mself\u001b[0m\u001b[0;34m.\u001b[0m\u001b[0mformat\u001b[0m \u001b[0;34m=\u001b[0m \u001b[0mself\u001b[0m\u001b[0;34m.\u001b[0m\u001b[0mds\u001b[0m\u001b[0;34m.\u001b[0m\u001b[0mdata_model\u001b[0m\u001b[0;34m\u001b[0m\u001b[0;34m\u001b[0m\u001b[0m\n\u001b[0m\u001b[1;32m    329\u001b[0m         \u001b[0mself\u001b[0m\u001b[0;34m.\u001b[0m\u001b[0m_filename\u001b[0m \u001b[0;34m=\u001b[0m \u001b[0mself\u001b[0m\u001b[0;34m.\u001b[0m\u001b[0mds\u001b[0m\u001b[0;34m.\u001b[0m\u001b[0mfilepath\u001b[0m\u001b[0;34m(\u001b[0m\u001b[0;34m)\u001b[0m\u001b[0;34m\u001b[0m\u001b[0;34m\u001b[0m\u001b[0m\n\u001b[1;32m    330\u001b[0m         \u001b[0mself\u001b[0m\u001b[0;34m.\u001b[0m\u001b[0mis_remote\u001b[0m \u001b[0;34m=\u001b[0m \u001b[0mis_remote_uri\u001b[0m\u001b[0;34m(\u001b[0m\u001b[0mself\u001b[0m\u001b[0;34m.\u001b[0m\u001b[0m_filename\u001b[0m\u001b[0;34m)\u001b[0m\u001b[0;34m\u001b[0m\u001b[0;34m\u001b[0m\u001b[0m\n",
      "\u001b[0;32m/home/mlavoie/miniconda3/envs/SubX/lib/python3.7/site-packages/xarray/backends/netCDF4_.py\u001b[0m in \u001b[0;36mds\u001b[0;34m(self)\u001b[0m\n\u001b[1;32m    387\u001b[0m     \u001b[0;34m@\u001b[0m\u001b[0mproperty\u001b[0m\u001b[0;34m\u001b[0m\u001b[0;34m\u001b[0m\u001b[0m\n\u001b[1;32m    388\u001b[0m     \u001b[0;32mdef\u001b[0m \u001b[0mds\u001b[0m\u001b[0;34m(\u001b[0m\u001b[0mself\u001b[0m\u001b[0;34m)\u001b[0m\u001b[0;34m:\u001b[0m\u001b[0;34m\u001b[0m\u001b[0;34m\u001b[0m\u001b[0m\n\u001b[0;32m--> 389\u001b[0;31m         \u001b[0;32mreturn\u001b[0m \u001b[0mself\u001b[0m\u001b[0;34m.\u001b[0m\u001b[0m_acquire\u001b[0m\u001b[0;34m(\u001b[0m\u001b[0;34m)\u001b[0m\u001b[0;34m\u001b[0m\u001b[0;34m\u001b[0m\u001b[0m\n\u001b[0m\u001b[1;32m    390\u001b[0m \u001b[0;34m\u001b[0m\u001b[0m\n\u001b[1;32m    391\u001b[0m     \u001b[0;32mdef\u001b[0m \u001b[0mopen_store_variable\u001b[0m\u001b[0;34m(\u001b[0m\u001b[0mself\u001b[0m\u001b[0;34m,\u001b[0m \u001b[0mname\u001b[0m\u001b[0;34m,\u001b[0m \u001b[0mvar\u001b[0m\u001b[0;34m)\u001b[0m\u001b[0;34m:\u001b[0m\u001b[0;34m\u001b[0m\u001b[0;34m\u001b[0m\u001b[0m\n",
      "\u001b[0;32m/home/mlavoie/miniconda3/envs/SubX/lib/python3.7/site-packages/xarray/backends/netCDF4_.py\u001b[0m in \u001b[0;36m_acquire\u001b[0;34m(self, needs_lock)\u001b[0m\n\u001b[1;32m    381\u001b[0m \u001b[0;34m\u001b[0m\u001b[0m\n\u001b[1;32m    382\u001b[0m     \u001b[0;32mdef\u001b[0m \u001b[0m_acquire\u001b[0m\u001b[0;34m(\u001b[0m\u001b[0mself\u001b[0m\u001b[0;34m,\u001b[0m \u001b[0mneeds_lock\u001b[0m\u001b[0;34m=\u001b[0m\u001b[0;32mTrue\u001b[0m\u001b[0;34m)\u001b[0m\u001b[0;34m:\u001b[0m\u001b[0;34m\u001b[0m\u001b[0;34m\u001b[0m\u001b[0m\n\u001b[0;32m--> 383\u001b[0;31m         \u001b[0;32mwith\u001b[0m \u001b[0mself\u001b[0m\u001b[0;34m.\u001b[0m\u001b[0m_manager\u001b[0m\u001b[0;34m.\u001b[0m\u001b[0macquire_context\u001b[0m\u001b[0;34m(\u001b[0m\u001b[0mneeds_lock\u001b[0m\u001b[0;34m)\u001b[0m \u001b[0;32mas\u001b[0m \u001b[0mroot\u001b[0m\u001b[0;34m:\u001b[0m\u001b[0;34m\u001b[0m\u001b[0;34m\u001b[0m\u001b[0m\n\u001b[0m\u001b[1;32m    384\u001b[0m             \u001b[0mds\u001b[0m \u001b[0;34m=\u001b[0m \u001b[0m_nc4_require_group\u001b[0m\u001b[0;34m(\u001b[0m\u001b[0mroot\u001b[0m\u001b[0;34m,\u001b[0m \u001b[0mself\u001b[0m\u001b[0;34m.\u001b[0m\u001b[0m_group\u001b[0m\u001b[0;34m,\u001b[0m \u001b[0mself\u001b[0m\u001b[0;34m.\u001b[0m\u001b[0m_mode\u001b[0m\u001b[0;34m)\u001b[0m\u001b[0;34m\u001b[0m\u001b[0;34m\u001b[0m\u001b[0m\n\u001b[1;32m    385\u001b[0m         \u001b[0;32mreturn\u001b[0m \u001b[0mds\u001b[0m\u001b[0;34m\u001b[0m\u001b[0;34m\u001b[0m\u001b[0m\n",
      "\u001b[0;32m/home/mlavoie/miniconda3/envs/SubX/lib/python3.7/contextlib.py\u001b[0m in \u001b[0;36m__enter__\u001b[0;34m(self)\u001b[0m\n\u001b[1;32m    110\u001b[0m         \u001b[0;32mdel\u001b[0m \u001b[0mself\u001b[0m\u001b[0;34m.\u001b[0m\u001b[0margs\u001b[0m\u001b[0;34m,\u001b[0m \u001b[0mself\u001b[0m\u001b[0;34m.\u001b[0m\u001b[0mkwds\u001b[0m\u001b[0;34m,\u001b[0m \u001b[0mself\u001b[0m\u001b[0;34m.\u001b[0m\u001b[0mfunc\u001b[0m\u001b[0;34m\u001b[0m\u001b[0;34m\u001b[0m\u001b[0m\n\u001b[1;32m    111\u001b[0m         \u001b[0;32mtry\u001b[0m\u001b[0;34m:\u001b[0m\u001b[0;34m\u001b[0m\u001b[0;34m\u001b[0m\u001b[0m\n\u001b[0;32m--> 112\u001b[0;31m             \u001b[0;32mreturn\u001b[0m \u001b[0mnext\u001b[0m\u001b[0;34m(\u001b[0m\u001b[0mself\u001b[0m\u001b[0;34m.\u001b[0m\u001b[0mgen\u001b[0m\u001b[0;34m)\u001b[0m\u001b[0;34m\u001b[0m\u001b[0;34m\u001b[0m\u001b[0m\n\u001b[0m\u001b[1;32m    113\u001b[0m         \u001b[0;32mexcept\u001b[0m \u001b[0mStopIteration\u001b[0m\u001b[0;34m:\u001b[0m\u001b[0;34m\u001b[0m\u001b[0;34m\u001b[0m\u001b[0m\n\u001b[1;32m    114\u001b[0m             \u001b[0;32mraise\u001b[0m \u001b[0mRuntimeError\u001b[0m\u001b[0;34m(\u001b[0m\u001b[0;34m\"generator didn't yield\"\u001b[0m\u001b[0;34m)\u001b[0m \u001b[0;32mfrom\u001b[0m \u001b[0;32mNone\u001b[0m\u001b[0;34m\u001b[0m\u001b[0;34m\u001b[0m\u001b[0m\n",
      "\u001b[0;32m/home/mlavoie/miniconda3/envs/SubX/lib/python3.7/site-packages/xarray/backends/file_manager.py\u001b[0m in \u001b[0;36macquire_context\u001b[0;34m(self, needs_lock)\u001b[0m\n\u001b[1;32m    185\u001b[0m     \u001b[0;32mdef\u001b[0m \u001b[0macquire_context\u001b[0m\u001b[0;34m(\u001b[0m\u001b[0mself\u001b[0m\u001b[0;34m,\u001b[0m \u001b[0mneeds_lock\u001b[0m\u001b[0;34m=\u001b[0m\u001b[0;32mTrue\u001b[0m\u001b[0;34m)\u001b[0m\u001b[0;34m:\u001b[0m\u001b[0;34m\u001b[0m\u001b[0;34m\u001b[0m\u001b[0m\n\u001b[1;32m    186\u001b[0m         \u001b[0;34m\"\"\"Context manager for acquiring a file.\"\"\"\u001b[0m\u001b[0;34m\u001b[0m\u001b[0;34m\u001b[0m\u001b[0m\n\u001b[0;32m--> 187\u001b[0;31m         \u001b[0mfile\u001b[0m\u001b[0;34m,\u001b[0m \u001b[0mcached\u001b[0m \u001b[0;34m=\u001b[0m \u001b[0mself\u001b[0m\u001b[0;34m.\u001b[0m\u001b[0m_acquire_with_cache_info\u001b[0m\u001b[0;34m(\u001b[0m\u001b[0mneeds_lock\u001b[0m\u001b[0;34m)\u001b[0m\u001b[0;34m\u001b[0m\u001b[0;34m\u001b[0m\u001b[0m\n\u001b[0m\u001b[1;32m    188\u001b[0m         \u001b[0;32mtry\u001b[0m\u001b[0;34m:\u001b[0m\u001b[0;34m\u001b[0m\u001b[0;34m\u001b[0m\u001b[0m\n\u001b[1;32m    189\u001b[0m             \u001b[0;32myield\u001b[0m \u001b[0mfile\u001b[0m\u001b[0;34m\u001b[0m\u001b[0;34m\u001b[0m\u001b[0m\n",
      "\u001b[0;32m/home/mlavoie/miniconda3/envs/SubX/lib/python3.7/site-packages/xarray/backends/file_manager.py\u001b[0m in \u001b[0;36m_acquire_with_cache_info\u001b[0;34m(self, needs_lock)\u001b[0m\n\u001b[1;32m    203\u001b[0m                     \u001b[0mkwargs\u001b[0m \u001b[0;34m=\u001b[0m \u001b[0mkwargs\u001b[0m\u001b[0;34m.\u001b[0m\u001b[0mcopy\u001b[0m\u001b[0;34m(\u001b[0m\u001b[0;34m)\u001b[0m\u001b[0;34m\u001b[0m\u001b[0;34m\u001b[0m\u001b[0m\n\u001b[1;32m    204\u001b[0m                     \u001b[0mkwargs\u001b[0m\u001b[0;34m[\u001b[0m\u001b[0;34m\"mode\"\u001b[0m\u001b[0;34m]\u001b[0m \u001b[0;34m=\u001b[0m \u001b[0mself\u001b[0m\u001b[0;34m.\u001b[0m\u001b[0m_mode\u001b[0m\u001b[0;34m\u001b[0m\u001b[0;34m\u001b[0m\u001b[0m\n\u001b[0;32m--> 205\u001b[0;31m                 \u001b[0mfile\u001b[0m \u001b[0;34m=\u001b[0m \u001b[0mself\u001b[0m\u001b[0;34m.\u001b[0m\u001b[0m_opener\u001b[0m\u001b[0;34m(\u001b[0m\u001b[0;34m*\u001b[0m\u001b[0mself\u001b[0m\u001b[0;34m.\u001b[0m\u001b[0m_args\u001b[0m\u001b[0;34m,\u001b[0m \u001b[0;34m**\u001b[0m\u001b[0mkwargs\u001b[0m\u001b[0;34m)\u001b[0m\u001b[0;34m\u001b[0m\u001b[0;34m\u001b[0m\u001b[0m\n\u001b[0m\u001b[1;32m    206\u001b[0m                 \u001b[0;32mif\u001b[0m \u001b[0mself\u001b[0m\u001b[0;34m.\u001b[0m\u001b[0m_mode\u001b[0m \u001b[0;34m==\u001b[0m \u001b[0;34m\"w\"\u001b[0m\u001b[0;34m:\u001b[0m\u001b[0;34m\u001b[0m\u001b[0;34m\u001b[0m\u001b[0m\n\u001b[1;32m    207\u001b[0m                     \u001b[0;31m# ensure file doesn't get overriden when opened again\u001b[0m\u001b[0;34m\u001b[0m\u001b[0;34m\u001b[0m\u001b[0;34m\u001b[0m\u001b[0m\n",
      "\u001b[0;32msrc/netCDF4/_netCDF4.pyx\u001b[0m in \u001b[0;36mnetCDF4._netCDF4.Dataset.__init__\u001b[0;34m()\u001b[0m\n",
      "\u001b[0;32msrc/netCDF4/_netCDF4.pyx\u001b[0m in \u001b[0;36mnetCDF4._netCDF4._ensure_nc_success\u001b[0;34m()\u001b[0m\n",
      "\u001b[0;31mFileNotFoundError\u001b[0m: [Errno 2] No such file or directory: b'/share/scratch/kpegion/subx/hindcast/ua850/daily/climo/ESRL-FIMr1p1/ua_ESRL-FIMr1p1_0615.climo.p.nc'"
     ]
    }
   ],
   "source": [
    "print('PROCESSING FCSTS FOR: ')\n",
    "\n",
    "# Loop over all the SubX Models\n",
    "ds_models_list=[]\n",
    "for imodel,subx_model in enumerate(subxmodels_list):\n",
    "    \n",
    "    # Get the model, group, variables, and levels from the dictionary \n",
    "    varnames=subx_model['varnames']\n",
    "    plevstrs=subx_model['plevstrs']\n",
    "    model=subx_model['model']\n",
    "    group=subx_model['group']\n",
    "    \n",
    "    print('===> '+group+'-'+model)\n",
    "    \n",
    "    # Loop over variables for this model\n",
    "    ds_anoms_list=[]\n",
    "    for varname,plevstr in zip(varnames,plevstrs):\n",
    "        \n",
    "        # Read Data\n",
    "        baseURL=url+'.'+group+'/.'+model+'/.'+datatype+'/.'+varname\n",
    "        inFname=baseURL+'/'+str(date.toordinal(fcstdate))+'/pop/dods'  \n",
    "        print(inFname)\n",
    "        ds=xr.open_dataset(inFname)\n",
    "\n",
    "        # Check if P is a coordinate and if so, select the Pressure Level\n",
    "        if ('P' in list(ds[varname].dims)):\n",
    "            ds=ds.sel(P=int(plevstr))\n",
    "        \n",
    "        # Remove hours,minutes,seconds from Initial Condition date\n",
    "        ds['S']=ds['S'].dt.floor('d')\n",
    "        \n",
    "        # Identify dates in this forecast week\n",
    "        dates_mask=np.isin(np.array(fcst_week_dates).astype('datetime64[ns]'),ds['S'])\n",
    "        startdates=fcst_week_dates[dates_mask]\n",
    "        \n",
    "        # Make string versions of the dates in this forecast week\n",
    "        sdates=startdates.strftime(('%Y%m%d'))\n",
    "        mmdd=startdates.strftime(('%m%d'))\n",
    "        \n",
    "        # Select only the startdates in this fcst week\n",
    "        ds=ds.sel(S=ds['S'].isin(np.array(startdates.values).astype('datetime64[ns]'))) \n",
    "        \n",
    "        # Make sure there is data for this forecast week and this model, if not, skip\n",
    "        if (ds['S'].size>0):\n",
    "            \n",
    "            # Drop any startdates with all missing\n",
    "            ds=ds.dropna('S',how='all')\n",
    "            \n",
    "            # Make sure there is data for this forecast week and this model after dropping missing\n",
    "            if (ds['S'].size>0):\n",
    "                \n",
    "                # Select the most recent available start date in this forecast week\n",
    "                if group=='NRL': \n",
    "                    ds=preprocNRL(ds,startdates)\n",
    "                elif group=='NCEP':\n",
    "                    ds=preprocCFSv2(ds)\n",
    "                else:\n",
    "                    # Select the most recent non-missing start date in fcst week\n",
    "                    ds=ds.sel(S=ds['S'][-1])\n",
    "                    \n",
    "                    # Get Subsetted Data Using Ingrid\n",
    "                    ds=getDataViaIngrid(ds,baseURL)\n",
    "                    \n",
    "                    # Save the start date information to ic_dates\n",
    "                    ds=ds.assign_coords({'ic_dates':pd.to_datetime(ds['S'].values).strftime('%Y%m%d')})\n",
    "\n",
    "                # Create model as coordinates to keep track of which models are being used\n",
    "                ds=ds.assign_coords({'model':group+'-'+model})    \n",
    "                        \n",
    "                # L got treated as a timeDelta on read in; convert to datetime64 based on start date\n",
    "                ds['L']=ds['S'].values+ds['L'].dt.floor('d')\n",
    "                \n",
    "                # Rename coordinates & add attributes\n",
    "                ds_out=ds.rename({'X':'lon','Y':'lat','L':'lead'})  \n",
    "                ds_out['lon'].attrs['units']='degrees_east'\n",
    "                ds_out['lat'].attrs['units']='degrees_north'\n",
    "            \n",
    "                # Get Climo and reset and re-name coordinates as needed to subtract from full field\n",
    "                climo_fname=hcstPath+varname+plevstr+'/daily/climo/'+group+'-'+model+'/'+varname+'_'+group+'-'+model+'_'+mmdd[-1]+'.climo.p.nc'\n",
    "                ds_clim=xr.open_dataset(climo_fname)\n",
    "                ds_clim=ds_clim.rename({'time':'lead'})\n",
    "                ds_clim['lead']=ds['L']\n",
    "            \n",
    "                # Special handling for GEFSv12 incorrect units for precip\n",
    "                if (model=='GEFSv12' and varname=='pr'):\n",
    "                    ds_clim=ds_clim/86400.0\n",
    "                    \n",
    "                # Special handling for GEFSv12_CPC  incorrect units for precip\n",
    "                if (model=='GEFSv12_CPC' and varname=='pr'):\n",
    "                    ds_clim=ds_clim/86400.0\n",
    "            \n",
    "                # Calculate Ensemble Mean and Ensemble Mean Anomalies       \n",
    "                ds_emean=ds_out.mean(dim='M').squeeze() \n",
    "                ds_anoms=ds_emean[varname]-ds_clim[varname]\n",
    "            \n",
    "                # Assign the number of ensemble members\n",
    "                ds_anoms['nens']=len(ds['M'])\n",
    "                \n",
    "                # Append anoms to list\n",
    "                ds_anoms_list.append(ds_anoms)\n",
    "                \n",
    "            else:\n",
    "                # Report that this model is missing\n",
    "                print(model+' '+varname+' is missing for forecast date: ',fcstdate) \n",
    "        else:\n",
    "            # Report that this model is missing\n",
    "            print(model+' '+varname+' is missing for forecast date: ',fcstdate) \n",
    "    \n",
    "    # Make list with all variables for this model and append to models list \n",
    "    if (ds_anoms_list):\n",
    "        ds_models_list.append(xr.merge(ds_anoms_list))\n",
    "    \n",
    "\n",
    "# Combine into dataset with all variables and all models\n",
    "ds_models=xr.combine_nested(ds_models_list,concat_dim='model').persist()\n",
    "\n",
    "# Make Weekly Averages Consistent with CPC Forecast Week of Sat-Fri\n",
    "ds_week=makeFCSTWeeks(ds_models,fcstdate,nweeks)\n",
    "\n",
    "# Make SubX-MME\n",
    "ds_mme=ds_week.mean(dim='model')\n",
    "ds_mme=ds_mme.assign_coords({'S':fcstdate,'model':'SUBX-MME',\n",
    "                             'nens':ds_week['nens'].sum(),\n",
    "                             'ic_dates':pd.to_datetime(fcstdate).strftime('%Y%m%d')})\n",
    "\n",
    "# Combine dataset for individual models and MME into a single xarray.Dataset \n",
    "ds_subx_fcst=xr.concat([ds_week,ds_mme],dim='model').compute()\n",
    "\n",
    "# Set global attributes\n",
    "ds_subx_fcst=setattrs(ds_subx_fcst,fcstdate)\n",
    "print()\n",
    "print(\"SUBX FCST DATASET: \")\n",
    "print(ds_subx_fcst)\n",
    "\n",
    "# Write Files\n",
    "print()\n",
    "print(\"WRITING DATA\")\n",
    "#subxWrite(ds_subx_fcst,fcstdate)\n",
    "\n",
    "# Make Figures\n",
    "#figpath='/shared/subx/forecast/weekly/'+fcstdate.strftime('%Y%m%d')+'/images/'\n",
    "figpath='/share/scratch/mlavoie/subx/figs_test/'\n",
    "print()\n",
    "print(\"MAKING FIGURES\")\n",
    "subxPlot(ds_subx_fcst,figpath)"
   ]
  },
  {
   "cell_type": "code",
   "execution_count": null,
   "id": "7f5e1038",
   "metadata": {},
   "outputs": [],
   "source": [
    "# Print timing information\n",
    "print()\n",
    "print(\"--- %s seconds ---\" % (time.time() - start_time))"
   ]
  },
  {
   "cell_type": "code",
   "execution_count": null,
   "id": "d84771e6",
   "metadata": {},
   "outputs": [],
   "source": []
  }
 ],
 "metadata": {
  "kernelspec": {
   "display_name": "Python (SubX)",
   "language": "python",
   "name": "subx"
  },
  "language_info": {
   "codemirror_mode": {
    "name": "ipython",
    "version": 3
   },
   "file_extension": ".py",
   "mimetype": "text/x-python",
   "name": "python",
   "nbconvert_exporter": "python",
   "pygments_lexer": "ipython3",
   "version": "3.7.3"
  }
 },
 "nbformat": 4,
 "nbformat_minor": 5
}
